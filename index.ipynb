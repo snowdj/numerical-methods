{
 "cells": [
  {
   "cell_type": "markdown",
   "metadata": {},
   "source": [
    "<h1> Numerical methods for Economists </h1>\n",
    "\n",
    "A short, lab-based graduate course on numerical methods for economists. Current materials include:\n",
    "<ol>\n",
    "  <li><a href=\"./labs/lab-1/lab-1.ipynb\">Lab 1: Solow growth model</a></li>\n",
    "  <li><a href=\"./labs/lab-2/lab-2.ipynb\">Lab 2: Ramsey-Cass-Koopmans optimal savings model</a></li>\n",
    "  <li><a href=\"./labs/lab-3/lab-3.ipynb\">Lab 3: Numerical Dynamic Programming</a></li>\n",
    "  <li><a href=\"./labs/lab-4/lab-4.ipynb\">Lab 4: Real Business Cycle (RBC) models:</a></li>\n",
    "</ol>"
   ]
  },
  {
   "cell_type": "code",
   "execution_count": null,
   "metadata": {
    "collapsed": true
   },
   "outputs": [],
   "source": []
  }
 ],
 "metadata": {
  "kernelspec": {
   "display_name": "Python 3",
   "language": "python",
   "name": "python3"
  },
  "language_info": {
   "codemirror_mode": {
    "name": "ipython",
    "version": 3
   },
   "file_extension": ".py",
   "mimetype": "text/x-python",
   "name": "python",
   "nbconvert_exporter": "python",
   "pygments_lexer": "ipython3",
   "version": "3.4.4"
  }
 },
 "nbformat": 4,
 "nbformat_minor": 0
}
